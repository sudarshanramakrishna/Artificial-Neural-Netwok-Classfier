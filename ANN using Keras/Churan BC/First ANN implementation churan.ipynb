{
 "cells": [
  {
   "cell_type": "code",
   "execution_count": 1,
   "id": "912c45bb",
   "metadata": {},
   "outputs": [],
   "source": [
    "import tensorflow as tf"
   ]
  },
  {
   "cell_type": "code",
   "execution_count": 2,
   "id": "2e414ab2",
   "metadata": {},
   "outputs": [
    {
     "name": "stdout",
     "output_type": "stream",
     "text": [
      "2.9.1\n"
     ]
    }
   ],
   "source": [
    "print(tf.__version__)"
   ]
  },
  {
   "cell_type": "code",
   "execution_count": 3,
   "id": "c7f2f517",
   "metadata": {},
   "outputs": [],
   "source": [
    "import numpy as np\n",
    "import matplotlib.pyplot as plt\n",
    "import pandas as pd"
   ]
  },
  {
   "cell_type": "code",
   "execution_count": 4,
   "id": "5edf39e2",
   "metadata": {},
   "outputs": [
    {
     "data": {
      "text/html": [
       "<div>\n",
       "<style scoped>\n",
       "    .dataframe tbody tr th:only-of-type {\n",
       "        vertical-align: middle;\n",
       "    }\n",
       "\n",
       "    .dataframe tbody tr th {\n",
       "        vertical-align: top;\n",
       "    }\n",
       "\n",
       "    .dataframe thead th {\n",
       "        text-align: right;\n",
       "    }\n",
       "</style>\n",
       "<table border=\"1\" class=\"dataframe\">\n",
       "  <thead>\n",
       "    <tr style=\"text-align: right;\">\n",
       "      <th></th>\n",
       "      <th>RowNumber</th>\n",
       "      <th>CustomerId</th>\n",
       "      <th>Surname</th>\n",
       "      <th>CreditScore</th>\n",
       "      <th>Geography</th>\n",
       "      <th>Gender</th>\n",
       "      <th>Age</th>\n",
       "      <th>Tenure</th>\n",
       "      <th>Balance</th>\n",
       "      <th>NumOfProducts</th>\n",
       "      <th>HasCrCard</th>\n",
       "      <th>IsActiveMember</th>\n",
       "      <th>EstimatedSalary</th>\n",
       "      <th>Exited</th>\n",
       "    </tr>\n",
       "  </thead>\n",
       "  <tbody>\n",
       "    <tr>\n",
       "      <th>0</th>\n",
       "      <td>1</td>\n",
       "      <td>15634602</td>\n",
       "      <td>Hargrave</td>\n",
       "      <td>619</td>\n",
       "      <td>France</td>\n",
       "      <td>Female</td>\n",
       "      <td>42</td>\n",
       "      <td>2</td>\n",
       "      <td>0.00</td>\n",
       "      <td>1</td>\n",
       "      <td>1</td>\n",
       "      <td>1</td>\n",
       "      <td>101348.88</td>\n",
       "      <td>1</td>\n",
       "    </tr>\n",
       "    <tr>\n",
       "      <th>1</th>\n",
       "      <td>2</td>\n",
       "      <td>15647311</td>\n",
       "      <td>Hill</td>\n",
       "      <td>608</td>\n",
       "      <td>Spain</td>\n",
       "      <td>Female</td>\n",
       "      <td>41</td>\n",
       "      <td>1</td>\n",
       "      <td>83807.86</td>\n",
       "      <td>1</td>\n",
       "      <td>0</td>\n",
       "      <td>1</td>\n",
       "      <td>112542.58</td>\n",
       "      <td>0</td>\n",
       "    </tr>\n",
       "    <tr>\n",
       "      <th>2</th>\n",
       "      <td>3</td>\n",
       "      <td>15619304</td>\n",
       "      <td>Onio</td>\n",
       "      <td>502</td>\n",
       "      <td>France</td>\n",
       "      <td>Female</td>\n",
       "      <td>42</td>\n",
       "      <td>8</td>\n",
       "      <td>159660.80</td>\n",
       "      <td>3</td>\n",
       "      <td>1</td>\n",
       "      <td>0</td>\n",
       "      <td>113931.57</td>\n",
       "      <td>1</td>\n",
       "    </tr>\n",
       "    <tr>\n",
       "      <th>3</th>\n",
       "      <td>4</td>\n",
       "      <td>15701354</td>\n",
       "      <td>Boni</td>\n",
       "      <td>699</td>\n",
       "      <td>France</td>\n",
       "      <td>Female</td>\n",
       "      <td>39</td>\n",
       "      <td>1</td>\n",
       "      <td>0.00</td>\n",
       "      <td>2</td>\n",
       "      <td>0</td>\n",
       "      <td>0</td>\n",
       "      <td>93826.63</td>\n",
       "      <td>0</td>\n",
       "    </tr>\n",
       "    <tr>\n",
       "      <th>4</th>\n",
       "      <td>5</td>\n",
       "      <td>15737888</td>\n",
       "      <td>Mitchell</td>\n",
       "      <td>850</td>\n",
       "      <td>Spain</td>\n",
       "      <td>Female</td>\n",
       "      <td>43</td>\n",
       "      <td>2</td>\n",
       "      <td>125510.82</td>\n",
       "      <td>1</td>\n",
       "      <td>1</td>\n",
       "      <td>1</td>\n",
       "      <td>79084.10</td>\n",
       "      <td>0</td>\n",
       "    </tr>\n",
       "  </tbody>\n",
       "</table>\n",
       "</div>"
      ],
      "text/plain": [
       "   RowNumber  CustomerId   Surname  CreditScore Geography  Gender  Age  \\\n",
       "0          1    15634602  Hargrave          619    France  Female   42   \n",
       "1          2    15647311      Hill          608     Spain  Female   41   \n",
       "2          3    15619304      Onio          502    France  Female   42   \n",
       "3          4    15701354      Boni          699    France  Female   39   \n",
       "4          5    15737888  Mitchell          850     Spain  Female   43   \n",
       "\n",
       "   Tenure    Balance  NumOfProducts  HasCrCard  IsActiveMember  \\\n",
       "0       2       0.00              1          1               1   \n",
       "1       1   83807.86              1          0               1   \n",
       "2       8  159660.80              3          1               0   \n",
       "3       1       0.00              2          0               0   \n",
       "4       2  125510.82              1          1               1   \n",
       "\n",
       "   EstimatedSalary  Exited  \n",
       "0        101348.88       1  \n",
       "1        112542.58       0  \n",
       "2        113931.57       1  \n",
       "3         93826.63       0  \n",
       "4         79084.10       0  "
      ]
     },
     "execution_count": 4,
     "metadata": {},
     "output_type": "execute_result"
    }
   ],
   "source": [
    "dataset = pd.read_csv('Churn_Modelling.csv')\n",
    "dataset.head()"
   ]
  },
  {
   "cell_type": "code",
   "execution_count": 5,
   "id": "3e4954ed",
   "metadata": {},
   "outputs": [],
   "source": [
    "X = dataset.iloc[:, 3:13]\n",
    "y = dataset.iloc[:, 13]"
   ]
  },
  {
   "cell_type": "code",
   "execution_count": 6,
   "id": "90012b92",
   "metadata": {},
   "outputs": [
    {
     "data": {
      "text/html": [
       "<div>\n",
       "<style scoped>\n",
       "    .dataframe tbody tr th:only-of-type {\n",
       "        vertical-align: middle;\n",
       "    }\n",
       "\n",
       "    .dataframe tbody tr th {\n",
       "        vertical-align: top;\n",
       "    }\n",
       "\n",
       "    .dataframe thead th {\n",
       "        text-align: right;\n",
       "    }\n",
       "</style>\n",
       "<table border=\"1\" class=\"dataframe\">\n",
       "  <thead>\n",
       "    <tr style=\"text-align: right;\">\n",
       "      <th></th>\n",
       "      <th>CreditScore</th>\n",
       "      <th>Geography</th>\n",
       "      <th>Gender</th>\n",
       "      <th>Age</th>\n",
       "      <th>Tenure</th>\n",
       "      <th>Balance</th>\n",
       "      <th>NumOfProducts</th>\n",
       "      <th>HasCrCard</th>\n",
       "      <th>IsActiveMember</th>\n",
       "      <th>EstimatedSalary</th>\n",
       "    </tr>\n",
       "  </thead>\n",
       "  <tbody>\n",
       "    <tr>\n",
       "      <th>0</th>\n",
       "      <td>619</td>\n",
       "      <td>France</td>\n",
       "      <td>Female</td>\n",
       "      <td>42</td>\n",
       "      <td>2</td>\n",
       "      <td>0.00</td>\n",
       "      <td>1</td>\n",
       "      <td>1</td>\n",
       "      <td>1</td>\n",
       "      <td>101348.88</td>\n",
       "    </tr>\n",
       "    <tr>\n",
       "      <th>1</th>\n",
       "      <td>608</td>\n",
       "      <td>Spain</td>\n",
       "      <td>Female</td>\n",
       "      <td>41</td>\n",
       "      <td>1</td>\n",
       "      <td>83807.86</td>\n",
       "      <td>1</td>\n",
       "      <td>0</td>\n",
       "      <td>1</td>\n",
       "      <td>112542.58</td>\n",
       "    </tr>\n",
       "    <tr>\n",
       "      <th>2</th>\n",
       "      <td>502</td>\n",
       "      <td>France</td>\n",
       "      <td>Female</td>\n",
       "      <td>42</td>\n",
       "      <td>8</td>\n",
       "      <td>159660.80</td>\n",
       "      <td>3</td>\n",
       "      <td>1</td>\n",
       "      <td>0</td>\n",
       "      <td>113931.57</td>\n",
       "    </tr>\n",
       "    <tr>\n",
       "      <th>3</th>\n",
       "      <td>699</td>\n",
       "      <td>France</td>\n",
       "      <td>Female</td>\n",
       "      <td>39</td>\n",
       "      <td>1</td>\n",
       "      <td>0.00</td>\n",
       "      <td>2</td>\n",
       "      <td>0</td>\n",
       "      <td>0</td>\n",
       "      <td>93826.63</td>\n",
       "    </tr>\n",
       "    <tr>\n",
       "      <th>4</th>\n",
       "      <td>850</td>\n",
       "      <td>Spain</td>\n",
       "      <td>Female</td>\n",
       "      <td>43</td>\n",
       "      <td>2</td>\n",
       "      <td>125510.82</td>\n",
       "      <td>1</td>\n",
       "      <td>1</td>\n",
       "      <td>1</td>\n",
       "      <td>79084.10</td>\n",
       "    </tr>\n",
       "  </tbody>\n",
       "</table>\n",
       "</div>"
      ],
      "text/plain": [
       "   CreditScore Geography  Gender  Age  Tenure    Balance  NumOfProducts  \\\n",
       "0          619    France  Female   42       2       0.00              1   \n",
       "1          608     Spain  Female   41       1   83807.86              1   \n",
       "2          502    France  Female   42       8  159660.80              3   \n",
       "3          699    France  Female   39       1       0.00              2   \n",
       "4          850     Spain  Female   43       2  125510.82              1   \n",
       "\n",
       "   HasCrCard  IsActiveMember  EstimatedSalary  \n",
       "0          1               1        101348.88  \n",
       "1          0               1        112542.58  \n",
       "2          1               0        113931.57  \n",
       "3          0               0         93826.63  \n",
       "4          1               1         79084.10  "
      ]
     },
     "execution_count": 6,
     "metadata": {},
     "output_type": "execute_result"
    }
   ],
   "source": [
    "X.head()"
   ]
  },
  {
   "cell_type": "code",
   "execution_count": 7,
   "id": "18a8d14c",
   "metadata": {},
   "outputs": [
    {
     "data": {
      "text/plain": [
       "0    1\n",
       "1    0\n",
       "2    1\n",
       "3    0\n",
       "4    0\n",
       "Name: Exited, dtype: int64"
      ]
     },
     "execution_count": 7,
     "metadata": {},
     "output_type": "execute_result"
    }
   ],
   "source": [
    "y.head()"
   ]
  },
  {
   "cell_type": "code",
   "execution_count": 8,
   "id": "6f8cfeb8",
   "metadata": {},
   "outputs": [],
   "source": [
    "#Create dummy variables\n",
    "geography=pd.get_dummies(X[\"Geography\"],drop_first=True)\n",
    "gender=pd.get_dummies(X['Gender'],drop_first=True)"
   ]
  },
  {
   "cell_type": "markdown",
   "id": "df3eecba",
   "metadata": {},
   "source": [
    "We use drop_first so that when both germany and spain are 0 we can tell that france is present, i.e; we can use only 2 columns to represent al 3 columns \n",
    "\n",
    "'Same for Gender column also'"
   ]
  },
  {
   "cell_type": "code",
   "execution_count": 9,
   "id": "992d172c",
   "metadata": {},
   "outputs": [
    {
     "data": {
      "text/html": [
       "<div>\n",
       "<style scoped>\n",
       "    .dataframe tbody tr th:only-of-type {\n",
       "        vertical-align: middle;\n",
       "    }\n",
       "\n",
       "    .dataframe tbody tr th {\n",
       "        vertical-align: top;\n",
       "    }\n",
       "\n",
       "    .dataframe thead th {\n",
       "        text-align: right;\n",
       "    }\n",
       "</style>\n",
       "<table border=\"1\" class=\"dataframe\">\n",
       "  <thead>\n",
       "    <tr style=\"text-align: right;\">\n",
       "      <th></th>\n",
       "      <th>Germany</th>\n",
       "      <th>Spain</th>\n",
       "    </tr>\n",
       "  </thead>\n",
       "  <tbody>\n",
       "    <tr>\n",
       "      <th>0</th>\n",
       "      <td>0</td>\n",
       "      <td>0</td>\n",
       "    </tr>\n",
       "    <tr>\n",
       "      <th>1</th>\n",
       "      <td>0</td>\n",
       "      <td>1</td>\n",
       "    </tr>\n",
       "    <tr>\n",
       "      <th>2</th>\n",
       "      <td>0</td>\n",
       "      <td>0</td>\n",
       "    </tr>\n",
       "    <tr>\n",
       "      <th>3</th>\n",
       "      <td>0</td>\n",
       "      <td>0</td>\n",
       "    </tr>\n",
       "    <tr>\n",
       "      <th>4</th>\n",
       "      <td>0</td>\n",
       "      <td>1</td>\n",
       "    </tr>\n",
       "    <tr>\n",
       "      <th>...</th>\n",
       "      <td>...</td>\n",
       "      <td>...</td>\n",
       "    </tr>\n",
       "    <tr>\n",
       "      <th>9995</th>\n",
       "      <td>0</td>\n",
       "      <td>0</td>\n",
       "    </tr>\n",
       "    <tr>\n",
       "      <th>9996</th>\n",
       "      <td>0</td>\n",
       "      <td>0</td>\n",
       "    </tr>\n",
       "    <tr>\n",
       "      <th>9997</th>\n",
       "      <td>0</td>\n",
       "      <td>0</td>\n",
       "    </tr>\n",
       "    <tr>\n",
       "      <th>9998</th>\n",
       "      <td>1</td>\n",
       "      <td>0</td>\n",
       "    </tr>\n",
       "    <tr>\n",
       "      <th>9999</th>\n",
       "      <td>0</td>\n",
       "      <td>0</td>\n",
       "    </tr>\n",
       "  </tbody>\n",
       "</table>\n",
       "<p>10000 rows × 2 columns</p>\n",
       "</div>"
      ],
      "text/plain": [
       "      Germany  Spain\n",
       "0           0      0\n",
       "1           0      1\n",
       "2           0      0\n",
       "3           0      0\n",
       "4           0      1\n",
       "...       ...    ...\n",
       "9995        0      0\n",
       "9996        0      0\n",
       "9997        0      0\n",
       "9998        1      0\n",
       "9999        0      0\n",
       "\n",
       "[10000 rows x 2 columns]"
      ]
     },
     "execution_count": 9,
     "metadata": {},
     "output_type": "execute_result"
    }
   ],
   "source": [
    "geography"
   ]
  },
  {
   "cell_type": "code",
   "execution_count": 10,
   "id": "abcb5cd1",
   "metadata": {},
   "outputs": [
    {
     "data": {
      "text/html": [
       "<div>\n",
       "<style scoped>\n",
       "    .dataframe tbody tr th:only-of-type {\n",
       "        vertical-align: middle;\n",
       "    }\n",
       "\n",
       "    .dataframe tbody tr th {\n",
       "        vertical-align: top;\n",
       "    }\n",
       "\n",
       "    .dataframe thead th {\n",
       "        text-align: right;\n",
       "    }\n",
       "</style>\n",
       "<table border=\"1\" class=\"dataframe\">\n",
       "  <thead>\n",
       "    <tr style=\"text-align: right;\">\n",
       "      <th></th>\n",
       "      <th>Male</th>\n",
       "    </tr>\n",
       "  </thead>\n",
       "  <tbody>\n",
       "    <tr>\n",
       "      <th>0</th>\n",
       "      <td>0</td>\n",
       "    </tr>\n",
       "    <tr>\n",
       "      <th>1</th>\n",
       "      <td>0</td>\n",
       "    </tr>\n",
       "    <tr>\n",
       "      <th>2</th>\n",
       "      <td>0</td>\n",
       "    </tr>\n",
       "    <tr>\n",
       "      <th>3</th>\n",
       "      <td>0</td>\n",
       "    </tr>\n",
       "    <tr>\n",
       "      <th>4</th>\n",
       "      <td>0</td>\n",
       "    </tr>\n",
       "    <tr>\n",
       "      <th>...</th>\n",
       "      <td>...</td>\n",
       "    </tr>\n",
       "    <tr>\n",
       "      <th>9995</th>\n",
       "      <td>1</td>\n",
       "    </tr>\n",
       "    <tr>\n",
       "      <th>9996</th>\n",
       "      <td>1</td>\n",
       "    </tr>\n",
       "    <tr>\n",
       "      <th>9997</th>\n",
       "      <td>0</td>\n",
       "    </tr>\n",
       "    <tr>\n",
       "      <th>9998</th>\n",
       "      <td>1</td>\n",
       "    </tr>\n",
       "    <tr>\n",
       "      <th>9999</th>\n",
       "      <td>0</td>\n",
       "    </tr>\n",
       "  </tbody>\n",
       "</table>\n",
       "<p>10000 rows × 1 columns</p>\n",
       "</div>"
      ],
      "text/plain": [
       "      Male\n",
       "0        0\n",
       "1        0\n",
       "2        0\n",
       "3        0\n",
       "4        0\n",
       "...    ...\n",
       "9995     1\n",
       "9996     1\n",
       "9997     0\n",
       "9998     1\n",
       "9999     0\n",
       "\n",
       "[10000 rows x 1 columns]"
      ]
     },
     "execution_count": 10,
     "metadata": {},
     "output_type": "execute_result"
    }
   ],
   "source": [
    "gender"
   ]
  },
  {
   "cell_type": "code",
   "execution_count": 11,
   "id": "9833530e",
   "metadata": {},
   "outputs": [
    {
     "data": {
      "text/html": [
       "<div>\n",
       "<style scoped>\n",
       "    .dataframe tbody tr th:only-of-type {\n",
       "        vertical-align: middle;\n",
       "    }\n",
       "\n",
       "    .dataframe tbody tr th {\n",
       "        vertical-align: top;\n",
       "    }\n",
       "\n",
       "    .dataframe thead th {\n",
       "        text-align: right;\n",
       "    }\n",
       "</style>\n",
       "<table border=\"1\" class=\"dataframe\">\n",
       "  <thead>\n",
       "    <tr style=\"text-align: right;\">\n",
       "      <th></th>\n",
       "      <th>CreditScore</th>\n",
       "      <th>Age</th>\n",
       "      <th>Tenure</th>\n",
       "      <th>Balance</th>\n",
       "      <th>NumOfProducts</th>\n",
       "      <th>HasCrCard</th>\n",
       "      <th>IsActiveMember</th>\n",
       "      <th>EstimatedSalary</th>\n",
       "      <th>Germany</th>\n",
       "      <th>Spain</th>\n",
       "      <th>Male</th>\n",
       "    </tr>\n",
       "  </thead>\n",
       "  <tbody>\n",
       "    <tr>\n",
       "      <th>0</th>\n",
       "      <td>619</td>\n",
       "      <td>42</td>\n",
       "      <td>2</td>\n",
       "      <td>0.00</td>\n",
       "      <td>1</td>\n",
       "      <td>1</td>\n",
       "      <td>1</td>\n",
       "      <td>101348.88</td>\n",
       "      <td>0</td>\n",
       "      <td>0</td>\n",
       "      <td>0</td>\n",
       "    </tr>\n",
       "    <tr>\n",
       "      <th>1</th>\n",
       "      <td>608</td>\n",
       "      <td>41</td>\n",
       "      <td>1</td>\n",
       "      <td>83807.86</td>\n",
       "      <td>1</td>\n",
       "      <td>0</td>\n",
       "      <td>1</td>\n",
       "      <td>112542.58</td>\n",
       "      <td>0</td>\n",
       "      <td>1</td>\n",
       "      <td>0</td>\n",
       "    </tr>\n",
       "    <tr>\n",
       "      <th>2</th>\n",
       "      <td>502</td>\n",
       "      <td>42</td>\n",
       "      <td>8</td>\n",
       "      <td>159660.80</td>\n",
       "      <td>3</td>\n",
       "      <td>1</td>\n",
       "      <td>0</td>\n",
       "      <td>113931.57</td>\n",
       "      <td>0</td>\n",
       "      <td>0</td>\n",
       "      <td>0</td>\n",
       "    </tr>\n",
       "    <tr>\n",
       "      <th>3</th>\n",
       "      <td>699</td>\n",
       "      <td>39</td>\n",
       "      <td>1</td>\n",
       "      <td>0.00</td>\n",
       "      <td>2</td>\n",
       "      <td>0</td>\n",
       "      <td>0</td>\n",
       "      <td>93826.63</td>\n",
       "      <td>0</td>\n",
       "      <td>0</td>\n",
       "      <td>0</td>\n",
       "    </tr>\n",
       "    <tr>\n",
       "      <th>4</th>\n",
       "      <td>850</td>\n",
       "      <td>43</td>\n",
       "      <td>2</td>\n",
       "      <td>125510.82</td>\n",
       "      <td>1</td>\n",
       "      <td>1</td>\n",
       "      <td>1</td>\n",
       "      <td>79084.10</td>\n",
       "      <td>0</td>\n",
       "      <td>1</td>\n",
       "      <td>0</td>\n",
       "    </tr>\n",
       "    <tr>\n",
       "      <th>...</th>\n",
       "      <td>...</td>\n",
       "      <td>...</td>\n",
       "      <td>...</td>\n",
       "      <td>...</td>\n",
       "      <td>...</td>\n",
       "      <td>...</td>\n",
       "      <td>...</td>\n",
       "      <td>...</td>\n",
       "      <td>...</td>\n",
       "      <td>...</td>\n",
       "      <td>...</td>\n",
       "    </tr>\n",
       "    <tr>\n",
       "      <th>9995</th>\n",
       "      <td>771</td>\n",
       "      <td>39</td>\n",
       "      <td>5</td>\n",
       "      <td>0.00</td>\n",
       "      <td>2</td>\n",
       "      <td>1</td>\n",
       "      <td>0</td>\n",
       "      <td>96270.64</td>\n",
       "      <td>0</td>\n",
       "      <td>0</td>\n",
       "      <td>1</td>\n",
       "    </tr>\n",
       "    <tr>\n",
       "      <th>9996</th>\n",
       "      <td>516</td>\n",
       "      <td>35</td>\n",
       "      <td>10</td>\n",
       "      <td>57369.61</td>\n",
       "      <td>1</td>\n",
       "      <td>1</td>\n",
       "      <td>1</td>\n",
       "      <td>101699.77</td>\n",
       "      <td>0</td>\n",
       "      <td>0</td>\n",
       "      <td>1</td>\n",
       "    </tr>\n",
       "    <tr>\n",
       "      <th>9997</th>\n",
       "      <td>709</td>\n",
       "      <td>36</td>\n",
       "      <td>7</td>\n",
       "      <td>0.00</td>\n",
       "      <td>1</td>\n",
       "      <td>0</td>\n",
       "      <td>1</td>\n",
       "      <td>42085.58</td>\n",
       "      <td>0</td>\n",
       "      <td>0</td>\n",
       "      <td>0</td>\n",
       "    </tr>\n",
       "    <tr>\n",
       "      <th>9998</th>\n",
       "      <td>772</td>\n",
       "      <td>42</td>\n",
       "      <td>3</td>\n",
       "      <td>75075.31</td>\n",
       "      <td>2</td>\n",
       "      <td>1</td>\n",
       "      <td>0</td>\n",
       "      <td>92888.52</td>\n",
       "      <td>1</td>\n",
       "      <td>0</td>\n",
       "      <td>1</td>\n",
       "    </tr>\n",
       "    <tr>\n",
       "      <th>9999</th>\n",
       "      <td>792</td>\n",
       "      <td>28</td>\n",
       "      <td>4</td>\n",
       "      <td>130142.79</td>\n",
       "      <td>1</td>\n",
       "      <td>1</td>\n",
       "      <td>0</td>\n",
       "      <td>38190.78</td>\n",
       "      <td>0</td>\n",
       "      <td>0</td>\n",
       "      <td>0</td>\n",
       "    </tr>\n",
       "  </tbody>\n",
       "</table>\n",
       "<p>10000 rows × 11 columns</p>\n",
       "</div>"
      ],
      "text/plain": [
       "      CreditScore  Age  Tenure    Balance  NumOfProducts  HasCrCard  \\\n",
       "0             619   42       2       0.00              1          1   \n",
       "1             608   41       1   83807.86              1          0   \n",
       "2             502   42       8  159660.80              3          1   \n",
       "3             699   39       1       0.00              2          0   \n",
       "4             850   43       2  125510.82              1          1   \n",
       "...           ...  ...     ...        ...            ...        ...   \n",
       "9995          771   39       5       0.00              2          1   \n",
       "9996          516   35      10   57369.61              1          1   \n",
       "9997          709   36       7       0.00              1          0   \n",
       "9998          772   42       3   75075.31              2          1   \n",
       "9999          792   28       4  130142.79              1          1   \n",
       "\n",
       "      IsActiveMember  EstimatedSalary  Germany  Spain  Male  \n",
       "0                  1        101348.88        0      0     0  \n",
       "1                  1        112542.58        0      1     0  \n",
       "2                  0        113931.57        0      0     0  \n",
       "3                  0         93826.63        0      0     0  \n",
       "4                  1         79084.10        0      1     0  \n",
       "...              ...              ...      ...    ...   ...  \n",
       "9995               0         96270.64        0      0     1  \n",
       "9996               1        101699.77        0      0     1  \n",
       "9997               1         42085.58        0      0     0  \n",
       "9998               0         92888.52        1      0     1  \n",
       "9999               0         38190.78        0      0     0  \n",
       "\n",
       "[10000 rows x 11 columns]"
      ]
     },
     "execution_count": 11,
     "metadata": {},
     "output_type": "execute_result"
    }
   ],
   "source": [
    "## Concatenate the Data Frames\n",
    "\n",
    "X=pd.concat([X,geography,gender],axis=1)\n",
    "\n",
    "## Drop Unnecessary columns\n",
    "X=X.drop(['Geography','Gender'],axis=1)\n",
    "\n",
    "X"
   ]
  },
  {
   "cell_type": "code",
   "execution_count": 12,
   "id": "05d0d9e2",
   "metadata": {},
   "outputs": [
    {
     "name": "stdout",
     "output_type": "stream",
     "text": [
      "<class 'pandas.core.frame.DataFrame'>\n",
      "RangeIndex: 10000 entries, 0 to 9999\n",
      "Data columns (total 11 columns):\n",
      " #   Column           Non-Null Count  Dtype  \n",
      "---  ------           --------------  -----  \n",
      " 0   CreditScore      10000 non-null  int64  \n",
      " 1   Age              10000 non-null  int64  \n",
      " 2   Tenure           10000 non-null  int64  \n",
      " 3   Balance          10000 non-null  float64\n",
      " 4   NumOfProducts    10000 non-null  int64  \n",
      " 5   HasCrCard        10000 non-null  int64  \n",
      " 6   IsActiveMember   10000 non-null  int64  \n",
      " 7   EstimatedSalary  10000 non-null  float64\n",
      " 8   Germany          10000 non-null  uint8  \n",
      " 9   Spain            10000 non-null  uint8  \n",
      " 10  Male             10000 non-null  uint8  \n",
      "dtypes: float64(2), int64(6), uint8(3)\n",
      "memory usage: 654.4 KB\n"
     ]
    }
   ],
   "source": [
    "X.info()"
   ]
  },
  {
   "cell_type": "code",
   "execution_count": 13,
   "id": "686dcb47",
   "metadata": {},
   "outputs": [],
   "source": [
    "# Splitting the dataset into the Training set and Test set\n",
    "from sklearn.model_selection import train_test_split\n",
    "X_train, X_test, y_train, y_test = train_test_split(X, y, test_size = 0.2, random_state = 0)"
   ]
  },
  {
   "cell_type": "code",
   "execution_count": 14,
   "id": "b1fdf738",
   "metadata": {},
   "outputs": [],
   "source": [
    "from sklearn.preprocessing import StandardScaler\n",
    "sc = StandardScaler()\n",
    "X_train=sc.fit_transform(X_train)\n",
    "X_test=sc.fit_transform(X_test)"
   ]
  },
  {
   "cell_type": "code",
   "execution_count": 15,
   "id": "b558d310",
   "metadata": {},
   "outputs": [
    {
     "data": {
      "text/plain": [
       "array([[ 0.16958176, -0.46460796,  0.00666099, ..., -0.5698444 ,\n",
       "         1.74309049, -1.09168714],\n",
       "       [-2.30455945,  0.30102557, -1.37744033, ...,  1.75486502,\n",
       "        -0.57369368,  0.91601335],\n",
       "       [-1.19119591, -0.94312892, -1.031415  , ..., -0.5698444 ,\n",
       "        -0.57369368, -1.09168714],\n",
       "       ...,\n",
       "       [ 0.9015152 , -0.36890377,  0.00666099, ..., -0.5698444 ,\n",
       "        -0.57369368,  0.91601335],\n",
       "       [-0.62420521, -0.08179119,  1.39076231, ..., -0.5698444 ,\n",
       "         1.74309049, -1.09168714],\n",
       "       [-0.28401079,  0.87525072, -1.37744033, ...,  1.75486502,\n",
       "        -0.57369368, -1.09168714]])"
      ]
     },
     "execution_count": 15,
     "metadata": {},
     "output_type": "execute_result"
    }
   ],
   "source": [
    "X_train"
   ]
  },
  {
   "cell_type": "code",
   "execution_count": 16,
   "id": "32592f05",
   "metadata": {},
   "outputs": [
    {
     "data": {
      "text/plain": [
       "array([[-0.56129438, -0.39401698,  0.9869706 , ...,  1.62776996,\n",
       "        -0.57427105, -1.11339196],\n",
       "       [-1.33847768,  0.07611425, -1.08432132, ..., -0.61433742,\n",
       "        -0.57427105, -1.11339196],\n",
       "       [ 0.58347561,  0.26416674,  0.9869706 , ..., -0.61433742,\n",
       "         1.74133801, -1.11339196],\n",
       "       ...,\n",
       "       [-0.76084144, -0.29999074, -1.42953664, ..., -0.61433742,\n",
       "         1.74133801,  0.8981563 ],\n",
       "       [-0.0046631 , -0.48804323, -0.39389068, ...,  1.62776996,\n",
       "        -0.57427105,  0.8981563 ],\n",
       "       [-0.81335383, -0.86414821,  0.9869706 , ...,  1.62776996,\n",
       "        -0.57427105,  0.8981563 ]])"
      ]
     },
     "execution_count": 16,
     "metadata": {},
     "output_type": "execute_result"
    }
   ],
   "source": [
    "X_test"
   ]
  },
  {
   "cell_type": "code",
   "execution_count": 17,
   "id": "0e1c72ec",
   "metadata": {},
   "outputs": [
    {
     "data": {
      "text/plain": [
       "(8000, 11)"
      ]
     },
     "execution_count": 17,
     "metadata": {},
     "output_type": "execute_result"
    }
   ],
   "source": [
    "X_train.shape"
   ]
  },
  {
   "cell_type": "code",
   "execution_count": 18,
   "id": "3c9e3f93",
   "metadata": {},
   "outputs": [],
   "source": [
    "from tensorflow.keras.models import Sequential\n",
    "from tensorflow.keras.layers import Dense\n",
    "#from tensorflow.keras.layers import LeakyReLU,PReLU,ELU,ReLU\n",
    "from tensorflow.keras.layers import Dropout"
   ]
  },
  {
   "cell_type": "code",
   "execution_count": 19,
   "id": "aa070fe9",
   "metadata": {},
   "outputs": [
    {
     "name": "stderr",
     "output_type": "stream",
     "text": [
      "2023-01-27 15:50:59.237550: I tensorflow/core/platform/cpu_feature_guard.cc:193] This TensorFlow binary is optimized with oneAPI Deep Neural Network Library (oneDNN) to use the following CPU instructions in performance-critical operations:  SSE4.1 SSE4.2\n",
      "To enable them in other operations, rebuild TensorFlow with the appropriate compiler flags.\n"
     ]
    }
   ],
   "source": [
    "#initialize ANN\n",
    "classifier=Sequential()"
   ]
  },
  {
   "cell_type": "code",
   "execution_count": 20,
   "id": "1ba39fa0",
   "metadata": {},
   "outputs": [],
   "source": [
    "#adding input layer\n",
    "classifier.add(Dense(units=11))\n",
    "#here units refer how many neurons we need(Since this is the first layer this layer becomes input layer)\n",
    "#activation reffers activation function to be used in the layer"
   ]
  },
  {
   "cell_type": "code",
   "execution_count": 21,
   "id": "68417e31",
   "metadata": {},
   "outputs": [],
   "source": [
    "#first hidden layer\n",
    "classifier.add(Dense(units=7, activation='relu'))"
   ]
  },
  {
   "cell_type": "code",
   "execution_count": 22,
   "id": "ef52a255",
   "metadata": {},
   "outputs": [],
   "source": [
    "#2nd HL\n",
    "classifier.add(Dense(units=6, activation='relu'))"
   ]
  },
  {
   "cell_type": "code",
   "execution_count": 23,
   "id": "e3ea3576",
   "metadata": {},
   "outputs": [],
   "source": [
    "#output layer\n",
    "classifier.add(Dense(units=1, activation='sigmoid'))"
   ]
  },
  {
   "cell_type": "code",
   "execution_count": 24,
   "id": "fec18b35",
   "metadata": {},
   "outputs": [],
   "source": [
    "#used adam optimizer\n",
    "#used binary cross entropy loss function\n",
    "#used accuracy as evultion metrics\n",
    "#default learning rate will be 0.01\n",
    "classifier.compile(optimizer='adam',loss='binary_crossentropy',metrics=['accuracy'])\n"
   ]
  },
  {
   "cell_type": "code",
   "execution_count": 25,
   "id": "de289a33",
   "metadata": {},
   "outputs": [],
   "source": [
    "#if we need to change the learning rate then follow the below steps\n",
    "import tensorflow\n",
    "opt=tensorflow.keras.optimizers.Adam(learning_rate=0.01)"
   ]
  },
  {
   "cell_type": "markdown",
   "id": "ca10aa52",
   "metadata": {},
   "source": [
    "monitor: Quantity to be monitored.\n",
    "\n",
    "min_delta: Minimum change in the monitored quantity to qualify as an improvement, i.e. an absolute change of less than min_delta, will count as no improvement.\n",
    "\n",
    "patience: Number of epochs with no improvement after which training will be stopped.\n",
    "\n",
    "verbose: Verbosity mode, 0 or 1. Mode 0 is silent, and mode 1 displays messages when the callback takes an action.\n",
    "\n",
    "mode: One of {\"auto\", \"min\", \"max\"}. In min mode, training will stop when the quantity monitored has stopped decreasing; in \"max\" mode it will stop when the quantity monitored has stopped increasing; in \"auto\" mode, the direction is automatically inferred from the name of the monitored quantity.\n",
    "\n",
    "baseline: Baseline value for the monitored quantity. Training will stop if the model doesn't show improvement over the baseline.\n",
    "\n",
    "restore_best_weights: Whether to restore model weights from the epoch with the best value of the monitored quantity. If False, the model weights obtained at the last step of training are used. An epoch will be restored regardless of the performance relative to the baseline. If no epoch improves on baseline, training will run for patience epochs and restore weights from the best epoch in that set.\n",
    "\n",
    "start_from_epoch: Number of epochs to wait before starting to monitor improvement. This allows for a warm-up period in which no improvement is expected and thus training will not be stopped."
   ]
  },
  {
   "cell_type": "code",
   "execution_count": 26,
   "id": "7a09a863",
   "metadata": {},
   "outputs": [],
   "source": [
    "#early stopping\n",
    "import tensorflow as tf\n",
    "early_stop=tf.keras.callbacks.EarlyStopping(\n",
    "    monitor=\"val_loss\",\n",
    "    min_delta=0.0001,\n",
    "    patience=20,\n",
    "    verbose=1,\n",
    "    mode=\"auto\",\n",
    "    baseline=None,\n",
    "    restore_best_weights=False\n",
    ")"
   ]
  },
  {
   "cell_type": "markdown",
   "id": "ca02603c",
   "metadata": {},
   "source": [
    "##### val_loss is the value of cost function for your cross-validation data and loss is the value of cost function for your training data. "
   ]
  },
  {
   "cell_type": "code",
   "execution_count": 27,
   "id": "b21ad29e",
   "metadata": {},
   "outputs": [
    {
     "name": "stdout",
     "output_type": "stream",
     "text": [
      "Epoch 1/1000\n",
      "536/536 [==============================] - 1s 1ms/step - loss: 0.4904 - accuracy: 0.7931 - val_loss: 0.4427 - val_accuracy: 0.8005\n",
      "Epoch 2/1000\n",
      "536/536 [==============================] - 0s 791us/step - loss: 0.4276 - accuracy: 0.8164 - val_loss: 0.4309 - val_accuracy: 0.8156\n",
      "Epoch 3/1000\n",
      "536/536 [==============================] - 0s 789us/step - loss: 0.4179 - accuracy: 0.8250 - val_loss: 0.4235 - val_accuracy: 0.8175\n",
      "Epoch 4/1000\n",
      "536/536 [==============================] - 0s 795us/step - loss: 0.4099 - accuracy: 0.8296 - val_loss: 0.4180 - val_accuracy: 0.8213\n",
      "Epoch 5/1000\n",
      "536/536 [==============================] - 0s 789us/step - loss: 0.4030 - accuracy: 0.8291 - val_loss: 0.4116 - val_accuracy: 0.8201\n",
      "Epoch 6/1000\n",
      "536/536 [==============================] - 0s 790us/step - loss: 0.3964 - accuracy: 0.8302 - val_loss: 0.4024 - val_accuracy: 0.8232\n",
      "Epoch 7/1000\n",
      "536/536 [==============================] - 0s 802us/step - loss: 0.3893 - accuracy: 0.8311 - val_loss: 0.3989 - val_accuracy: 0.8228\n",
      "Epoch 8/1000\n",
      "536/536 [==============================] - 0s 813us/step - loss: 0.3841 - accuracy: 0.8302 - val_loss: 0.3935 - val_accuracy: 0.8236\n",
      "Epoch 9/1000\n",
      "536/536 [==============================] - 0s 788us/step - loss: 0.3795 - accuracy: 0.8322 - val_loss: 0.3893 - val_accuracy: 0.8289\n",
      "Epoch 10/1000\n",
      "536/536 [==============================] - 0s 791us/step - loss: 0.3744 - accuracy: 0.8339 - val_loss: 0.3869 - val_accuracy: 0.8289\n",
      "Epoch 11/1000\n",
      "536/536 [==============================] - 0s 790us/step - loss: 0.3720 - accuracy: 0.8369 - val_loss: 0.3826 - val_accuracy: 0.8338\n",
      "Epoch 12/1000\n",
      "536/536 [==============================] - 0s 786us/step - loss: 0.3669 - accuracy: 0.8459 - val_loss: 0.3808 - val_accuracy: 0.8391\n",
      "Epoch 13/1000\n",
      "536/536 [==============================] - 0s 798us/step - loss: 0.3648 - accuracy: 0.8502 - val_loss: 0.3772 - val_accuracy: 0.8395\n",
      "Epoch 14/1000\n",
      "536/536 [==============================] - 0s 789us/step - loss: 0.3610 - accuracy: 0.8531 - val_loss: 0.3760 - val_accuracy: 0.8444\n",
      "Epoch 15/1000\n",
      "536/536 [==============================] - 0s 788us/step - loss: 0.3568 - accuracy: 0.8545 - val_loss: 0.3742 - val_accuracy: 0.8455\n",
      "Epoch 16/1000\n",
      "536/536 [==============================] - 0s 805us/step - loss: 0.3533 - accuracy: 0.8561 - val_loss: 0.3733 - val_accuracy: 0.8466\n",
      "Epoch 17/1000\n",
      "536/536 [==============================] - 0s 789us/step - loss: 0.3514 - accuracy: 0.8550 - val_loss: 0.3673 - val_accuracy: 0.8482\n",
      "Epoch 18/1000\n",
      "536/536 [==============================] - 0s 790us/step - loss: 0.3494 - accuracy: 0.8586 - val_loss: 0.3700 - val_accuracy: 0.8474\n",
      "Epoch 19/1000\n",
      "536/536 [==============================] - 0s 787us/step - loss: 0.3483 - accuracy: 0.8567 - val_loss: 0.3662 - val_accuracy: 0.8482\n",
      "Epoch 20/1000\n",
      "536/536 [==============================] - 0s 789us/step - loss: 0.3453 - accuracy: 0.8595 - val_loss: 0.3636 - val_accuracy: 0.8519\n",
      "Epoch 21/1000\n",
      "536/536 [==============================] - 0s 789us/step - loss: 0.3457 - accuracy: 0.8580 - val_loss: 0.3634 - val_accuracy: 0.8512\n",
      "Epoch 22/1000\n",
      "536/536 [==============================] - 0s 789us/step - loss: 0.3439 - accuracy: 0.8599 - val_loss: 0.3641 - val_accuracy: 0.8474\n",
      "Epoch 23/1000\n",
      "536/536 [==============================] - 0s 790us/step - loss: 0.3430 - accuracy: 0.8600 - val_loss: 0.3627 - val_accuracy: 0.8516\n",
      "Epoch 24/1000\n",
      "536/536 [==============================] - 0s 802us/step - loss: 0.3437 - accuracy: 0.8586 - val_loss: 0.3614 - val_accuracy: 0.8554\n",
      "Epoch 25/1000\n",
      "536/536 [==============================] - 0s 788us/step - loss: 0.3417 - accuracy: 0.8582 - val_loss: 0.3653 - val_accuracy: 0.8501\n",
      "Epoch 26/1000\n",
      "536/536 [==============================] - 0s 788us/step - loss: 0.3414 - accuracy: 0.8597 - val_loss: 0.3605 - val_accuracy: 0.8561\n",
      "Epoch 27/1000\n",
      "536/536 [==============================] - 0s 786us/step - loss: 0.3414 - accuracy: 0.8587 - val_loss: 0.3685 - val_accuracy: 0.8482\n",
      "Epoch 28/1000\n",
      "536/536 [==============================] - 0s 786us/step - loss: 0.3407 - accuracy: 0.8586 - val_loss: 0.3627 - val_accuracy: 0.8489\n",
      "Epoch 29/1000\n",
      "536/536 [==============================] - 0s 785us/step - loss: 0.3397 - accuracy: 0.8632 - val_loss: 0.3631 - val_accuracy: 0.8516\n",
      "Epoch 30/1000\n",
      "536/536 [==============================] - 0s 788us/step - loss: 0.3406 - accuracy: 0.8602 - val_loss: 0.3619 - val_accuracy: 0.8550\n",
      "Epoch 31/1000\n",
      "536/536 [==============================] - 0s 787us/step - loss: 0.3396 - accuracy: 0.8612 - val_loss: 0.3595 - val_accuracy: 0.8535\n",
      "Epoch 32/1000\n",
      "536/536 [==============================] - 0s 794us/step - loss: 0.3384 - accuracy: 0.8574 - val_loss: 0.3642 - val_accuracy: 0.8535\n",
      "Epoch 33/1000\n",
      "536/536 [==============================] - 0s 792us/step - loss: 0.3387 - accuracy: 0.8593 - val_loss: 0.3604 - val_accuracy: 0.8542\n",
      "Epoch 34/1000\n",
      "536/536 [==============================] - 0s 786us/step - loss: 0.3383 - accuracy: 0.8627 - val_loss: 0.3602 - val_accuracy: 0.8501\n",
      "Epoch 35/1000\n",
      "536/536 [==============================] - 0s 786us/step - loss: 0.3387 - accuracy: 0.8599 - val_loss: 0.3604 - val_accuracy: 0.8535\n",
      "Epoch 36/1000\n",
      "536/536 [==============================] - 0s 791us/step - loss: 0.3369 - accuracy: 0.8628 - val_loss: 0.3640 - val_accuracy: 0.8523\n",
      "Epoch 37/1000\n",
      "536/536 [==============================] - 0s 790us/step - loss: 0.3390 - accuracy: 0.8615 - val_loss: 0.3589 - val_accuracy: 0.8535\n",
      "Epoch 38/1000\n",
      "536/536 [==============================] - 0s 786us/step - loss: 0.3374 - accuracy: 0.8615 - val_loss: 0.3617 - val_accuracy: 0.8501\n",
      "Epoch 39/1000\n",
      "536/536 [==============================] - 0s 788us/step - loss: 0.3375 - accuracy: 0.8628 - val_loss: 0.3579 - val_accuracy: 0.8576\n",
      "Epoch 40/1000\n",
      "536/536 [==============================] - 0s 787us/step - loss: 0.3371 - accuracy: 0.8602 - val_loss: 0.3583 - val_accuracy: 0.8561\n",
      "Epoch 41/1000\n",
      "536/536 [==============================] - 0s 787us/step - loss: 0.3363 - accuracy: 0.8604 - val_loss: 0.3620 - val_accuracy: 0.8527\n",
      "Epoch 42/1000\n",
      "536/536 [==============================] - 0s 789us/step - loss: 0.3365 - accuracy: 0.8604 - val_loss: 0.3572 - val_accuracy: 0.8576\n",
      "Epoch 43/1000\n",
      "536/536 [==============================] - 0s 790us/step - loss: 0.3362 - accuracy: 0.8625 - val_loss: 0.3572 - val_accuracy: 0.8576\n",
      "Epoch 44/1000\n",
      "536/536 [==============================] - 0s 820us/step - loss: 0.3371 - accuracy: 0.8634 - val_loss: 0.3571 - val_accuracy: 0.8565\n",
      "Epoch 45/1000\n",
      "536/536 [==============================] - 0s 878us/step - loss: 0.3353 - accuracy: 0.8615 - val_loss: 0.3593 - val_accuracy: 0.8591\n",
      "Epoch 46/1000\n",
      "536/536 [==============================] - 0s 790us/step - loss: 0.3345 - accuracy: 0.8619 - val_loss: 0.3600 - val_accuracy: 0.8527\n",
      "Epoch 47/1000\n",
      "536/536 [==============================] - 0s 788us/step - loss: 0.3350 - accuracy: 0.8599 - val_loss: 0.3583 - val_accuracy: 0.8538\n",
      "Epoch 48/1000\n",
      "536/536 [==============================] - 0s 783us/step - loss: 0.3365 - accuracy: 0.8623 - val_loss: 0.3574 - val_accuracy: 0.8573\n",
      "Epoch 49/1000\n",
      "536/536 [==============================] - 0s 796us/step - loss: 0.3351 - accuracy: 0.8625 - val_loss: 0.3549 - val_accuracy: 0.8584\n",
      "Epoch 50/1000\n",
      "536/536 [==============================] - 0s 791us/step - loss: 0.3349 - accuracy: 0.8638 - val_loss: 0.3559 - val_accuracy: 0.8576\n",
      "Epoch 51/1000\n",
      "536/536 [==============================] - 0s 790us/step - loss: 0.3348 - accuracy: 0.8623 - val_loss: 0.3576 - val_accuracy: 0.8550\n",
      "Epoch 52/1000\n",
      "536/536 [==============================] - 0s 789us/step - loss: 0.3355 - accuracy: 0.8628 - val_loss: 0.3586 - val_accuracy: 0.8569\n",
      "Epoch 53/1000\n",
      "536/536 [==============================] - 0s 788us/step - loss: 0.3346 - accuracy: 0.8617 - val_loss: 0.3583 - val_accuracy: 0.8565\n",
      "Epoch 54/1000\n",
      "536/536 [==============================] - 0s 789us/step - loss: 0.3351 - accuracy: 0.8625 - val_loss: 0.3599 - val_accuracy: 0.8550\n",
      "Epoch 55/1000\n",
      "536/536 [==============================] - 0s 795us/step - loss: 0.3342 - accuracy: 0.8610 - val_loss: 0.3622 - val_accuracy: 0.8527\n",
      "Epoch 56/1000\n",
      "536/536 [==============================] - 0s 789us/step - loss: 0.3351 - accuracy: 0.8606 - val_loss: 0.3580 - val_accuracy: 0.8557\n"
     ]
    },
    {
     "name": "stdout",
     "output_type": "stream",
     "text": [
      "Epoch 57/1000\n",
      "536/536 [==============================] - 0s 792us/step - loss: 0.3339 - accuracy: 0.8638 - val_loss: 0.3585 - val_accuracy: 0.8561\n",
      "Epoch 58/1000\n",
      "536/536 [==============================] - 0s 788us/step - loss: 0.3348 - accuracy: 0.8628 - val_loss: 0.3608 - val_accuracy: 0.8546\n",
      "Epoch 59/1000\n",
      "536/536 [==============================] - 0s 789us/step - loss: 0.3335 - accuracy: 0.8623 - val_loss: 0.3591 - val_accuracy: 0.8535\n",
      "Epoch 60/1000\n",
      "536/536 [==============================] - 0s 788us/step - loss: 0.3342 - accuracy: 0.8634 - val_loss: 0.3575 - val_accuracy: 0.8554\n",
      "Epoch 61/1000\n",
      "536/536 [==============================] - 0s 791us/step - loss: 0.3342 - accuracy: 0.8640 - val_loss: 0.3594 - val_accuracy: 0.8546\n",
      "Epoch 62/1000\n",
      "536/536 [==============================] - 0s 787us/step - loss: 0.3345 - accuracy: 0.8608 - val_loss: 0.3607 - val_accuracy: 0.8565\n",
      "Epoch 63/1000\n",
      "536/536 [==============================] - 0s 791us/step - loss: 0.3340 - accuracy: 0.8621 - val_loss: 0.3591 - val_accuracy: 0.8557\n",
      "Epoch 64/1000\n",
      "536/536 [==============================] - 0s 790us/step - loss: 0.3342 - accuracy: 0.8640 - val_loss: 0.3550 - val_accuracy: 0.8595\n",
      "Epoch 65/1000\n",
      "536/536 [==============================] - 0s 789us/step - loss: 0.3350 - accuracy: 0.8647 - val_loss: 0.3565 - val_accuracy: 0.8569\n",
      "Epoch 66/1000\n",
      "536/536 [==============================] - 0s 790us/step - loss: 0.3334 - accuracy: 0.8614 - val_loss: 0.3579 - val_accuracy: 0.8519\n",
      "Epoch 67/1000\n",
      "536/536 [==============================] - 0s 788us/step - loss: 0.3351 - accuracy: 0.8645 - val_loss: 0.3581 - val_accuracy: 0.8550\n",
      "Epoch 68/1000\n",
      "536/536 [==============================] - 0s 790us/step - loss: 0.3343 - accuracy: 0.8615 - val_loss: 0.3573 - val_accuracy: 0.8584\n",
      "Epoch 69/1000\n",
      "536/536 [==============================] - 0s 790us/step - loss: 0.3335 - accuracy: 0.8628 - val_loss: 0.3547 - val_accuracy: 0.8588\n",
      "Epoch 70/1000\n",
      "536/536 [==============================] - 0s 792us/step - loss: 0.3337 - accuracy: 0.8623 - val_loss: 0.3577 - val_accuracy: 0.8561\n",
      "Epoch 71/1000\n",
      "536/536 [==============================] - 0s 792us/step - loss: 0.3341 - accuracy: 0.8647 - val_loss: 0.3600 - val_accuracy: 0.8531\n",
      "Epoch 72/1000\n",
      "536/536 [==============================] - 0s 789us/step - loss: 0.3337 - accuracy: 0.8610 - val_loss: 0.3571 - val_accuracy: 0.8584\n",
      "Epoch 73/1000\n",
      "536/536 [==============================] - 0s 790us/step - loss: 0.3339 - accuracy: 0.8640 - val_loss: 0.3593 - val_accuracy: 0.8527\n",
      "Epoch 74/1000\n",
      "536/536 [==============================] - 0s 796us/step - loss: 0.3333 - accuracy: 0.8619 - val_loss: 0.3625 - val_accuracy: 0.8569\n",
      "Epoch 75/1000\n",
      "536/536 [==============================] - 0s 791us/step - loss: 0.3329 - accuracy: 0.8619 - val_loss: 0.3570 - val_accuracy: 0.8576\n",
      "Epoch 76/1000\n",
      "536/536 [==============================] - 0s 789us/step - loss: 0.3335 - accuracy: 0.8615 - val_loss: 0.3559 - val_accuracy: 0.8557\n",
      "Epoch 77/1000\n",
      "536/536 [==============================] - 0s 790us/step - loss: 0.3332 - accuracy: 0.8625 - val_loss: 0.3648 - val_accuracy: 0.8542\n",
      "Epoch 78/1000\n",
      "536/536 [==============================] - 0s 789us/step - loss: 0.3340 - accuracy: 0.8621 - val_loss: 0.3573 - val_accuracy: 0.8554\n",
      "Epoch 79/1000\n",
      "536/536 [==============================] - 0s 790us/step - loss: 0.3332 - accuracy: 0.8612 - val_loss: 0.3550 - val_accuracy: 0.8584\n",
      "Epoch 80/1000\n",
      "536/536 [==============================] - 0s 792us/step - loss: 0.3324 - accuracy: 0.8636 - val_loss: 0.3605 - val_accuracy: 0.8561\n",
      "Epoch 81/1000\n",
      "536/536 [==============================] - 0s 789us/step - loss: 0.3334 - accuracy: 0.8621 - val_loss: 0.3570 - val_accuracy: 0.8565\n",
      "Epoch 82/1000\n",
      "536/536 [==============================] - 0s 842us/step - loss: 0.3333 - accuracy: 0.8642 - val_loss: 0.3585 - val_accuracy: 0.8561\n",
      "Epoch 83/1000\n",
      "536/536 [==============================] - 0s 815us/step - loss: 0.3331 - accuracy: 0.8623 - val_loss: 0.3587 - val_accuracy: 0.8519\n",
      "Epoch 84/1000\n",
      "536/536 [==============================] - 0s 790us/step - loss: 0.3335 - accuracy: 0.8623 - val_loss: 0.3552 - val_accuracy: 0.8580\n",
      "Epoch 85/1000\n",
      "536/536 [==============================] - 0s 788us/step - loss: 0.3335 - accuracy: 0.8636 - val_loss: 0.3549 - val_accuracy: 0.8576\n",
      "Epoch 86/1000\n",
      "536/536 [==============================] - 0s 784us/step - loss: 0.3331 - accuracy: 0.8634 - val_loss: 0.3577 - val_accuracy: 0.8569\n",
      "Epoch 87/1000\n",
      "536/536 [==============================] - 0s 788us/step - loss: 0.3333 - accuracy: 0.8649 - val_loss: 0.3607 - val_accuracy: 0.8519\n",
      "Epoch 88/1000\n",
      "536/536 [==============================] - 0s 790us/step - loss: 0.3325 - accuracy: 0.8640 - val_loss: 0.3583 - val_accuracy: 0.8576\n",
      "Epoch 89/1000\n",
      "536/536 [==============================] - 0s 787us/step - loss: 0.3327 - accuracy: 0.8645 - val_loss: 0.3607 - val_accuracy: 0.8527\n",
      "Epoch 89: early stopping\n"
     ]
    }
   ],
   "source": [
    "#validation split again splits the tarating data at 33% to text the model\n",
    "model_history=classifier.fit(X_train,y_train,validation_split=0.33,batch_size=10,epochs=1000,callbacks=early_stop)"
   ]
  },
  {
   "cell_type": "code",
   "execution_count": 28,
   "id": "33bfa005",
   "metadata": {},
   "outputs": [
    {
     "name": "stdout",
     "output_type": "stream",
     "text": [
      "dict_keys(['loss', 'accuracy', 'val_loss', 'val_accuracy'])\n"
     ]
    }
   ],
   "source": [
    "# list all data in history\n",
    "\n",
    "print(model_history.history.keys())"
   ]
  },
  {
   "cell_type": "code",
   "execution_count": 29,
   "id": "1204822e",
   "metadata": {},
   "outputs": [
    {
     "data": {
      "image/png": "[encoded data removed]",
      "text/plain": [
       "<Figure size 640x480 with 1 Axes>"
      ]
     },
     "metadata": {},
     "output_type": "display_data"
    }
   ],
   "source": [
    "# summarize history for accuracy\n",
    "plt.plot(model_history.history['accuracy'])\n",
    "plt.plot(model_history.history['val_accuracy'])\n",
    "plt.title('model accuracy')\n",
    "plt.ylabel('accuracy')\n",
    "plt.xlabel('epoch')\n",
    "plt.legend(['train', 'test'], loc='upper left')\n",
    "plt.show()"
   ]
  },
  {
   "cell_type": "code",
   "execution_count": 30,
   "id": "2e4c46ca",
   "metadata": {},
   "outputs": [
    {
     "data": {
      "image/png": "[encoded data removed]",
      "text/plain": [
       "<Figure size 640x480 with 1 Axes>"
      ]
     },
     "metadata": {},
     "output_type": "display_data"
    }
   ],
   "source": [
    "# summarize history for loss\n",
    "plt.plot(model_history.history['loss'])\n",
    "plt.plot(model_history.history['val_loss'])\n",
    "plt.title('model loss')\n",
    "plt.ylabel('loss')\n",
    "plt.xlabel('epoch')\n",
    "plt.legend(['train', 'test'], loc='upper left')\n",
    "plt.show()"
   ]
  },
  {
   "cell_type": "code",
   "execution_count": 31,
   "id": "947a7878",
   "metadata": {},
   "outputs": [
    {
     "name": "stdout",
     "output_type": "stream",
     "text": [
      "63/63 [==============================] - 0s 430us/step\n",
      "[[0.31962404]\n",
      " [0.44095916]\n",
      " [0.21744806]\n",
      " ...\n",
      " [0.16056396]\n",
      " [0.1615729 ]\n",
      " [0.24692854]]\n"
     ]
    }
   ],
   "source": [
    "# Part 3 - Making the predictions and evaluating the model\n",
    "# Predicting the Test set results\n",
    "y_pred = classifier.predict(X_test)\n",
    "print(y_pred)\n",
    "#sigmoid returns the output values in probabality\n",
    "# to classify the output value we are setting a threshould values as 0.5\n",
    "#if value = <0.5 then 0 or 1\n",
    "y_pred = (y_pred > 0.5)"
   ]
  },
  {
   "cell_type": "code",
   "execution_count": 32,
   "id": "2ac5dc87",
   "metadata": {},
   "outputs": [
    {
     "data": {
      "text/plain": [
       "array([[1492,  103],\n",
       "       [ 184,  221]])"
      ]
     },
     "execution_count": 32,
     "metadata": {},
     "output_type": "execute_result"
    }
   ],
   "source": [
    "# Making the Confusion Matrix\n",
    "from sklearn.metrics import confusion_matrix\n",
    "cm = confusion_matrix(y_test, y_pred)\n",
    "cm"
   ]
  },
  {
   "cell_type": "code",
   "execution_count": 33,
   "id": "d53de7fd",
   "metadata": {},
   "outputs": [
    {
     "data": {
      "text/plain": [
       "0.8565"
      ]
     },
     "execution_count": 33,
     "metadata": {},
     "output_type": "execute_result"
    }
   ],
   "source": [
    "# Calculate the Accuracy\n",
    "from sklearn.metrics import accuracy_score\n",
    "score=accuracy_score(y_pred,y_test)\n",
    "score"
   ]
  },
  {
   "cell_type": "code",
   "execution_count": null,
   "id": "ed81c73e",
   "metadata": {},
   "outputs": [],
   "source": []
  },
  {
   "cell_type": "code",
   "execution_count": null,
   "id": "878a07b4",
   "metadata": {},
   "outputs": [],
   "source": []
  }
 ],
 "metadata": {
  "kernelspec": {
   "display_name": "Python 3 (ipykernel)",
   "language": "python",
   "name": "python3"
  },
  "language_info": {
   "codemirror_mode": {
    "name": "ipython",
    "version": 3
   },
   "file_extension": ".py",
   "mimetype": "text/x-python",
   "name": "python",
   "nbconvert_exporter": "python",
   "pygments_lexer": "ipython3",
   "version": "3.9.13"
  }
 },
 "nbformat": 4,
 "nbformat_minor": 5
}
